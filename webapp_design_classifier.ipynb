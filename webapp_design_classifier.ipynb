{
 "cells": [
  {
   "cell_type": "code",
   "execution_count": null,
   "id": "33217047",
   "metadata": {},
   "outputs": [],
   "source": [
    "from fastai.vision.widgets import *\n",
    "from fastai.vision.all import *"
   ]
  },
  {
   "cell_type": "code",
   "execution_count": null,
   "id": "92d4e52d",
   "metadata": {},
   "outputs": [],
   "source": [
    "path = Path()"
   ]
  },
  {
   "cell_type": "code",
   "execution_count": null,
   "id": "e8c9da9c",
   "metadata": {},
   "outputs": [],
   "source": [
    "learn_inf = load_learner(path/'export.pkl', cpu = True)"
   ]
  },
  {
   "cell_type": "code",
   "execution_count": null,
   "id": "1185d121",
   "metadata": {},
   "outputs": [],
   "source": [
    "btn_upload = widgets.FileUpload()\n",
    "out_pl = widgets.Output()\n",
    "lbl = widgets.Label()\n",
    "btn_run = widgets.Button(description = 'Classify')"
   ]
  },
  {
   "cell_type": "code",
   "execution_count": null,
   "id": "3aebce4d",
   "metadata": {},
   "outputs": [],
   "source": [
    "def on_classify_click(change):\n",
    "    lbl.value = ''\n",
    "    img = PILImage.create(btn_upload.data[-1])\n",
    "    pred, pred_idx, probs = learn_inf.predict(img)\n",
    "    out_pl.clear_output()\n",
    "    with out_pl: display(img.to_thumb(400, 400))\n",
    "    lbl.value = f'Prediction : {pred}; Probability : {probs[pred_idx]:.4f}'\n",
    "btn_run.on_click(on_classify_click)"
   ]
  },
  {
   "cell_type": "code",
   "execution_count": null,
   "id": "83628b39",
   "metadata": {},
   "outputs": [],
   "source": [
    "display(VBox([widgets.Label('Select your design:'),\n",
    "     btn_upload, btn_run, out_pl, lbl]))"
   ]
  }
 ],
 "metadata": {
  "environment": {
   "name": "pytorch-gpu.1-8.m69",
   "type": "gcloud",
   "uri": "gcr.io/deeplearning-platform-release/pytorch-gpu.1-8:m69"
  },
  "kernelspec": {
   "display_name": "Python 3",
   "language": "python",
   "name": "python3"
  },
  "language_info": {
   "codemirror_mode": {
    "name": "ipython",
    "version": 3
   },
   "file_extension": ".py",
   "mimetype": "text/x-python",
   "name": "python",
   "nbconvert_exporter": "python",
   "pygments_lexer": "ipython3",
   "version": "3.7.10"
  }
 },
 "nbformat": 4,
 "nbformat_minor": 5
}
