{
 "cells": [
  {
   "cell_type": "code",
   "execution_count": null,
   "id": "52744a47",
   "metadata": {},
   "outputs": [],
   "source": [
    "from fastai.vision.widgets import *\n",
    "from fastai.vision.all import *"
   ]
  },
  {
   "cell_type": "markdown",
   "id": "0e8144dc",
   "metadata": {},
   "source": [
    "## Which designer's work is closest to your designs\n",
    "\n",
    "This is a cute little app to compare your designs with three prominent designers, i.e. Sabyasachi, Ritu Kumar and Anamika Khanna.\n",
    "\n",
    "Upload an image of your work and click **`Classify`**"
   ]
  },
  {
   "cell_type": "code",
   "execution_count": null,
   "id": "fab6a1c0",
   "metadata": {},
   "outputs": [],
   "source": [
    "path = Path()"
   ]
  },
  {
   "cell_type": "code",
   "execution_count": null,
   "id": "db15d058",
   "metadata": {},
   "outputs": [],
   "source": [
    "learn_inf = load_learner(path/'export.pkl', cpu = True)"
   ]
  },
  {
   "cell_type": "code",
   "execution_count": null,
   "id": "238a327e",
   "metadata": {},
   "outputs": [],
   "source": [
    "btn_upload = widgets.FileUpload()\n",
    "out_pl = widgets.Output()\n",
    "lbl = widgets.Label()\n",
    "btn_run = widgets.Button(description = 'Classify')"
   ]
  },
  {
   "cell_type": "code",
   "execution_count": null,
   "id": "fa4b4c3e",
   "metadata": {},
   "outputs": [],
   "source": [
    "def on_classify_click(change):\n",
    "    lbl.value = ''\n",
    "    img = PILImage.create(btn_upload.data[-1])\n",
    "    pred, pred_idx, probs = learn_inf.predict(img)\n",
    "    out_pl.clear_output()\n",
    "    with out_pl: display(img.to_thumb(400, 400))\n",
    "    lbl.value = f'Prediction : {pred}; Probability : {probs[pred_idx]:.4f}'\n",
    "btn_run.on_click(on_classify_click)"
   ]
  },
  {
   "cell_type": "code",
   "execution_count": null,
   "id": "3073ae21",
   "metadata": {},
   "outputs": [],
   "source": [
    "display(VBox([widgets.Label('Select your design:'),\n",
    "     btn_upload, btn_run, out_pl, lbl]))"
   ]
  }
 ],
 "metadata": {
  "environment": {
   "name": "pytorch-gpu.1-8.m69",
   "type": "gcloud",
   "uri": "gcr.io/deeplearning-platform-release/pytorch-gpu.1-8:m69"
  },
  "kernelspec": {
   "display_name": "Python 3",
   "language": "python",
   "name": "python3"
  },
  "language_info": {
   "codemirror_mode": {
    "name": "ipython",
    "version": 3
   },
   "file_extension": ".py",
   "mimetype": "text/x-python",
   "name": "python",
   "nbconvert_exporter": "python",
   "pygments_lexer": "ipython3",
   "version": "3.7.10"
  }
 },
 "nbformat": 4,
 "nbformat_minor": 5
}
